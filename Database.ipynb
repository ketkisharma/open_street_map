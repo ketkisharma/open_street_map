{
 "cells": [
  {
   "cell_type": "markdown",
   "metadata": {},
   "source": [
    "__Upload the csv files to the database__"
   ]
  },
  {
   "cell_type": "code",
   "execution_count": 12,
   "metadata": {
    "collapsed": false
   },
   "outputs": [
    {
     "name": "stdout",
     "output_type": "stream",
     "text": [
      "var * {id: int64, key: ?string, value: ?string, type: ?string}\n",
      "Number of rows in nodes_tags after insert = 253210\n"
     ]
    }
   ],
   "source": [
    "#!/usr/bin/env python\n",
    "# -*- coding: utf-8 -*-\n",
    "\n",
    "# Uploading the csv files to database\n",
    "import csv\n",
    "import sqlite3\n",
    "from odo import odo, discover, resource\n",
    "\n",
    "def full_table_path(dbname, tablename):   # returns name of full table path in database\n",
    "    return 'sqlite:///' + dbname + '::' + tablename\n",
    "\n",
    "def clean_database(dbname, tablename):\n",
    "    my_conn = sqlite3.connect(dbname)\n",
    "    for row in my_conn.execute('select count(*) from ' + tablename):\n",
    "        print('Number of rows in ' + tablename + ' before cleanup = ' + str(row[0]))\n",
    "    my_conn.execute('delete from ' + tablename)\n",
    "    for row in my_conn.execute('select count(*) from ' + tablename):\n",
    "        print('Number of rows in ' + tablename + ' after cleanup = ' + str(row[0]))\n",
    "    my_conn.execute('drop table if exists ' + tablename)\n",
    "    my_conn.close()\n",
    "\n",
    "def insert_into_database(dbname, tablename, csv_file, pkey):\n",
    "    schema = discover(resource(csv_file))\n",
    "    print(schema)\n",
    "    resource(full_table_path(dbname, tablename), dshape=schema, primary_key=pkey)\n",
    "    odo(csv_file, full_table_path(dbname, tablename))\n",
    "    my_conn = sqlite3.connect(dbname)\n",
    "    for row in my_conn.execute('select count(*) from ' + tablename):\n",
    "        print('Number of rows in ' + tablename + ' after insert = ' + str(row[0]))\n",
    "    my_conn.close()\n",
    "    \n",
    "def upload_data(dbname, tablename, data, pkey):\n",
    "    # clean_database(dbname, tablename)\n",
    "    insert_into_database(dbname, tablename, data, pkey)\n",
    "\n",
    "sqlite_file = 'data_cleaned.db'\n",
    "\n",
    "# upload_data(sqlite_file, 'ways', 'ways.csv', ['id'])\n",
    "# upload_data(sqlite_file, 'nodes', 'nodes-cleaned.csv', ['id'])\n",
    "# upload_data(sqlite_file, 'ways_nodes', 'ways_nodes.csv', [])\n",
    "# upload_data(sqlite_file, 'ways_tags', 'ways_tags.csv', [])\n",
    "upload_data(sqlite_file, 'nodes_tags', 'nodes_tags.csv', [])"
   ]
  },
  {
   "cell_type": "code",
   "execution_count": null,
   "metadata": {
    "collapsed": true
   },
   "outputs": [],
   "source": []
  }
 ],
 "metadata": {
  "kernelspec": {
   "display_name": "Python 2",
   "language": "python",
   "name": "python2"
  },
  "language_info": {
   "codemirror_mode": {
    "name": "ipython",
    "version": 2
   },
   "file_extension": ".py",
   "mimetype": "text/x-python",
   "name": "python",
   "nbconvert_exporter": "python",
   "pygments_lexer": "ipython2",
   "version": "2.7.13"
  }
 },
 "nbformat": 4,
 "nbformat_minor": 2
}
