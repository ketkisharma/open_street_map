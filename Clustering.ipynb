{
 "cells": [
  {
   "cell_type": "markdown",
   "metadata": {},
   "source": [
    "Now I will connect to the database, and run some SQL queries to get some basic information about the features I am interested in. "
   ]
  },
  {
   "cell_type": "code",
   "execution_count": 3,
   "metadata": {
    "collapsed": false
   },
   "outputs": [],
   "source": [
    "import pprint\n",
    "import csv\n",
    "import sqlite3\n",
    "sqlite_file = 'data.db'    # name of the sqlite database file\n",
    "\n",
    "conn = sqlite3.connect(sqlite_file)     # Connect to the database\n",
    "cur = conn.cursor()    # Get a cursor object"
   ]
  },
  {
   "cell_type": "code",
   "execution_count": 251,
   "metadata": {
    "collapsed": false
   },
   "outputs": [
    {
     "name": "stdout",
     "output_type": "stream",
     "text": [
      "2889\n"
     ]
    }
   ],
   "source": [
    "# Get an idea about the number of restaurants\n",
    "cur.execute('SELECT COUNT(*) FROM nodes_tags WHERE nodes_tags.value= \"restaurant\" GROUP BY nodes_tags.id')\n",
    "print (len(cur.fetchall()))"
   ]
  },
  {
   "cell_type": "code",
   "execution_count": 17,
   "metadata": {
    "collapsed": false
   },
   "outputs": [
    {
     "name": "stdout",
     "output_type": "stream",
     "text": [
      "106\n"
     ]
    }
   ],
   "source": [
    "# Explore number of restaurants of a partcular cuisine say thai\n",
    "\n",
    "cur.execute('''\n",
    "SELECT nodes.id, nodes_tags.key, nodes_tags.value\n",
    "FROM nodes, nodes_tags \n",
    "WHERE (nodes.id = nodes_tags.id) AND \n",
    "-- (lower(nodes_tags.key) = 'cuisine') AND \n",
    "(lower(nodes_tags.value) like \"thai\")\n",
    "GROUP BY nodes.id\n",
    "''')\n",
    "pprint.pprint(len(cur.fetchall()))"
   ]
  },
  {
   "cell_type": "code",
   "execution_count": 73,
   "metadata": {
    "collapsed": false
   },
   "outputs": [
    {
     "name": "stdout",
     "output_type": "stream",
     "text": [
      "38\n"
     ]
    }
   ],
   "source": [
    "   # Query for restaurants \n",
    "cur.execute('''\n",
    "SELECT nodes.lat, nodes.lon\n",
    "FROM nodes, nodes_tags \n",
    "WHERE (nodes.id=nodes_tags.id) AND \n",
    "      (nodes_tags.key='cuisine') AND \n",
    "      (lower(nodes_tags.value) like \"%french%\")\n",
    "GROUP BY nodes.id, nodes.lat, nodes.lon\n",
    "''')\n",
    "rows1 = cur.fetchall()\n",
    "pprint.pprint(len(rows1))"
   ]
  },
  {
   "cell_type": "code",
   "execution_count": 69,
   "metadata": {
    "collapsed": false
   },
   "outputs": [
    {
     "name": "stdout",
     "output_type": "stream",
     "text": [
      "1381\n"
     ]
    }
   ],
   "source": [
    "   # Query for coffee shops, cafes and tea places\n",
    "    \n",
    "cur.execute('''\n",
    "SELECT nodes.lat, nodes.lon\n",
    "FROM nodes, nodes_tags \n",
    "WHERE (nodes.id=nodes_tags.id) AND \n",
    "      --(nodes_tags.key='cuisine') AND \n",
    "      ((lower(nodes_tags.value) like \"%coffee%\") or (lower(nodes_tags.value) like \"%cafe%\") or (lower(nodes_tags.value) like \"%tea%\"))\n",
    "      GROUP BY nodes.id, nodes.lat, nodes.lon\n",
    "''')\n",
    "rows1 = cur.fetchall()\n",
    "pprint.pprint(len(rows1))"
   ]
  },
  {
   "cell_type": "code",
   "execution_count": 71,
   "metadata": {
    "collapsed": false
   },
   "outputs": [
    {
     "name": "stdout",
     "output_type": "stream",
     "text": [
      "586\n"
     ]
    }
   ],
   "source": [
    "   # Query for amenities such as gas station, schools, library, church\n",
    "    \n",
    "cur.execute('''\n",
    "SELECT nodes.lat, nodes.lon\n",
    "FROM nodes, nodes_tags \n",
    "WHERE (nodes.id=nodes_tags.id) AND \n",
    "      (nodes_tags.key='amenity') AND \n",
    "      lower(nodes_tags.value) like \"%school%\"\n",
    "GROUP BY nodes.id, nodes.lat, nodes.lon\n",
    "''')\n",
    "rows1 = cur.fetchall()\n",
    "pprint.pprint(len(rows1))"
   ]
  },
  {
   "cell_type": "markdown",
   "metadata": {},
   "source": [
    "\n",
    "  __Choosing Clustering Algorithm:__\n",
    "\n",
    "* The k-means algorithm is a common clustering algorithm. For spatial data, the [DBSCAN algorithm](http://datascience.stackexchange.com/questions/761/clustering-geo-location-coordinates-lat-long-pairs) is more appropriate.\n",
    " \n",
    "* k-means is not an ideal algorithm for latitude-longitude spatial data because it minimizes variance, not geodetic distance. There is substantial distortion at latitudes far from the equator.\n",
    "\n",
    "* DBSCAN can handle arbitrary distance function and clusters a spatial data set based on two parameters: a physical distance from each point, and a minimum cluster size. \n",
    "\n",
    "* __The epsilon parameter__ is the max distance that points can be from each other to be considered in a cluster. __The min_samples parameter__ is the minimum cluster size (everything else gets classified as noise). \n",
    "\n",
    "* In DBSCAN you don't have to specify the number of clusters in advance. It determines them based on the epsilon and min_samples parameters\n",
    "\n",
    "* The silhouette score is a measure of how similar a point is to its own cluster compared to other clusters.The best value is 1 and the worst value is -1. Values near 0 indicate overlapping clusters. Negative values generally indicate that a sample has been assigned to the wrong cluster."
   ]
  },
  {
   "cell_type": "code",
   "execution_count": 74,
   "metadata": {
    "collapsed": false,
    "scrolled": false
   },
   "outputs": [
    {
     "data": {
      "image/png": "[encoded data removed]",
      "text/plain": [
       "<matplotlib.figure.Figure at 0x1154b6d8>"
      ]
     },
     "metadata": {},
     "output_type": "display_data"
    },
    {
     "name": "stdout",
     "output_type": "stream",
     "text": [
      "           2          3          4          5\n",
      "0  (6, 0.21)   (4, 0.1)  (4, 0.07)  (2, -0.1)\n",
      "1  (3, 0.49)  (2, 0.49)  (2, 0.49)  (2, 0.49)\n",
      "2  (3, 0.66)  (2, 0.67)  (2, 0.67)  (2, 0.67)\n",
      "3  (3, 0.66)  (2, 0.67)  (2, 0.67)  (2, 0.67)\n",
      "4  (3, 0.66)  (2, 0.67)  (2, 0.67)  (2, 0.67)\n",
      "5  (3, 0.66)  (2, 0.67)  (2, 0.67)  (2, 0.67)\n",
      "6  (3, 0.66)  (2, 0.67)  (2, 0.67)  (2, 0.67)\n",
      "7   (2, 0.7)   (2, 0.7)   (2, 0.7)   (2, 0.7)\n",
      "8  (2, 0.73)  (2, 0.73)  (2, 0.73)  (2, 0.73)\n"
     ]
    }
   ],
   "source": [
    "import pandas as pd, numpy as np, matplotlib.pyplot as plt\n",
    "import math\n",
    "from sklearn.cluster import DBSCAN\n",
    "from sklearn import metrics\n",
    "%matplotlib inline\n",
    "\n",
    "def cluster(data, n_epsilon, min_samples):\n",
    "    kms_per_radian = 6371.0088    # convert kilometers to radians for use by haversine\n",
    "    radian_coords_df = np.radians(data)\n",
    "    epsilon = n_epsilon / kms_per_radian\n",
    "    return DBSCAN(eps=epsilon, min_samples=min_samples, algorithm='ball_tree', metric='haversine').fit(radian_coords_df)\n",
    "    \n",
    "def cluster_and_plot(data_points_df, n_epsilon, min_samples):\n",
    "    db = cluster(data_points_df, n_epsilon, min_samples)\n",
    "    labels = db.labels_\n",
    "    core_samples_mask = np.zeros_like(db.labels_, dtype=bool)\n",
    "    core_samples_mask[db.core_sample_indices_] = True\n",
    "    n_clusters_ = len(set(labels)) - (1 if -1 in labels else 0)\n",
    "    n_isolated_ = sum([1 if label == -1 else 0 for label in labels])\n",
    "\n",
    "    # Black removed and is used for noise instead.\n",
    "    unique_labels = set(labels)\n",
    "    colors = plt.cm.Spectral(np.linspace(0, 1, len(unique_labels)))\n",
    "    fig = plt.figure(dpi=120)\n",
    "\n",
    "    for k, col in zip(unique_labels, colors):\n",
    "        if k == -1:\n",
    "            # Black used for noise.\n",
    "            col = 'k'\n",
    "\n",
    "        class_member_mask = (labels == k)\n",
    "\n",
    "        xy = data_points_df[class_member_mask & core_samples_mask]\n",
    "        plt.plot(xy['lon'], xy['lat'], 'o', markerfacecolor=col,\n",
    "                 markeredgecolor=col, markersize=14)\n",
    "\n",
    "        xy = data_points_df[class_member_mask & ~core_samples_mask]\n",
    "        plt.plot(xy['lon'], xy['lat'], 'o', markerfacecolor=col,\n",
    "                 markeredgecolor=col, markersize=6)\n",
    "\n",
    "    total_data_points = len(data_points_df)\n",
    "    plt.title('Estimated number of clusters: %d\\nSilhouette Coefficient: %0.3f\\nCoverage prob: %0.3f\\nTotal count: %d\\nTotal isolated: %d' \n",
    "              % (n_clusters_, metrics.silhouette_score(data_points_df, labels), 1 - float(n_isolated_)/total_data_points, total_data_points, n_isolated_), \n",
    "             fontsize = 8)\n",
    "    plt.ylabel ('Latitude', fontsize = 8)\n",
    "    plt.xlabel ('Longitude', fontsize = 8)\n",
    "    plt.grid(True)\n",
    "    plt.show()\n",
    "    \n",
    "coords_df = pd.DataFrame(rows1, columns = ['lat','lon'])\n",
    "cluster_and_plot(coords_df, 3, 4)\n",
    "# cluster_and_plot(coords_df, 0.8, 2)   # 2 points within 1/2 mile \n",
    "\n",
    "#pprint.pprint(int(max(2, 2.0/38 * len(coords_df))))\n",
    "#cluster_and_plot(coords_df, 3, int(max(2, 2.0/38 * len(coords_df))))   # 2 points within 1/2 mile \n",
    "\n",
    "all_results = []\n",
    "for eps in range(1, 10):\n",
    "    row = []\n",
    "    for min_samp in range(2, 6):\n",
    "        result = cluster(coords_df, eps, min_samp)\n",
    "        n_clusters_ = len(set(result.labels_)) - (1 if -1 in result.labels_ else 0)\n",
    "        coeff = str(round(metrics.silhouette_score(coords_df, result.labels_), 2))\n",
    "        row.append((n_clusters_, coeff))\n",
    "    all_results.append(row)\n",
    "pprint.pprint(pd.DataFrame(all_results, columns=range(2, 6)))"
   ]
  },
  {
   "cell_type": "code",
   "execution_count": 66,
   "metadata": {
    "collapsed": false
   },
   "outputs": [
    {
     "name": "stdout",
     "output_type": "stream",
     "text": [
      "[(933797, u'oba510', 11719),\n",
      " (169004, u'oldtopos', 7301),\n",
      " (371121, u'AndrewSnow', 6412),\n",
      " (1295, u'robert', 5644),\n",
      " (153669, u'dchiles', 5482),\n",
      " (11154, u'beej71', 4074),\n",
      " (481533, u'dbaron', 3720),\n",
      " (14293, u'KindredCoda', 3565),\n",
      " (28775, u'StellanL', 3467),\n",
      " (22925, u'ELadner', 3021)]\n"
     ]
    }
   ],
   "source": [
    "cur.execute('''\n",
    "SELECT uid,  user, count(*) as count_num_nodes\n",
    "FROM (SELECT nodes.id as id, nodes.uid as uid, nodes.user as user \n",
    "    FROM nodes, nodes_tags \n",
    "    WHERE nodes.id = nodes_tags.id \n",
    "    GROUP BY nodes.id, nodes.uid, nodes.user\n",
    "   ) as node_user_pair\n",
    "GROUP BY uid\n",
    "ORDER BY count_num_nodes DESC\n",
    "LIMIT 10;\n",
    "''')\n",
    "rows = cur.fetchall()\n",
    "pprint.pprint(rows)"
   ]
  },
  {
   "cell_type": "code",
   "execution_count": 67,
   "metadata": {
    "collapsed": false
   },
   "outputs": [
    {
     "name": "stdout",
     "output_type": "stream",
     "text": [
      "[(371121, u'AndrewSnow', u'restaurant', 249),\n",
      " (153669, u'dchiles', u'restaurant', 151),\n",
      " (153669, u'dchiles', u'bicycle_parking', 128),\n",
      " (371121, u'AndrewSnow', u'cafe', 111),\n",
      " (169004, u'oldtopos', u'restaurant', 92),\n",
      " (481533, u'dbaron', u'restaurant', 74),\n",
      " (153669, u'dchiles', u'bench', 71),\n",
      " (14293, u'KindredCoda', u'restaurant', 64),\n",
      " (169004, u'oldtopos', u'bench', 59),\n",
      " (933797, u'oba510', u'cafe', 57),\n",
      " (11154, u'beej71', u'bench', 51),\n",
      " (153669, u'dchiles', u'drinking_water', 51),\n",
      " (153669, u'dchiles', u'cafe', 47),\n",
      " (169004, u'oldtopos', u'post_box', 47),\n",
      " (14293, u'KindredCoda', u'place_of_worship', 46),\n",
      " (11154, u'beej71', u'drinking_water', 43),\n",
      " (933797, u'oba510', u'restaurant', 43),\n",
      " (153669, u'dchiles', u'waste_basket', 38),\n",
      " (14293, u'KindredCoda', u'school', 36),\n",
      " (28775, u'StellanL', u'bench', 36),\n",
      " (371121, u'AndrewSnow', u'dentist', 36),\n",
      " (153669, u'dchiles', u'post_box', 34),\n",
      " (481533, u'dbaron', u'post_box', 34),\n",
      " (153669, u'dchiles', u'bicycle_rental', 30),\n",
      " (371121, u'AndrewSnow', u'fast_food', 29),\n",
      " (153669, u'dchiles', u'fast_food', 28),\n",
      " (11154, u'beej71', u'parking', 27),\n",
      " (28775, u'StellanL', u'restaurant', 26),\n",
      " (371121, u'AndrewSnow', u'bicycle_parking', 26),\n",
      " (481533, u'dbaron', u'cafe', 26),\n",
      " (371121, u'AndrewSnow', u'bank', 25),\n",
      " (371121, u'AndrewSnow', u'pub', 25),\n",
      " (371121, u'AndrewSnow', u'bar', 24),\n",
      " (28775, u'StellanL', u'parking', 23),\n",
      " (153669, u'dchiles', u'toilets', 23),\n",
      " (169004, u'oldtopos', u'drinking_water', 22),\n",
      " (14293, u'KindredCoda', u'fuel', 21),\n",
      " (11154, u'beej71', u'post_box', 18),\n",
      " (14293, u'KindredCoda', u'bench', 18),\n",
      " (153669, u'dchiles', u'place_of_worship', 18),\n",
      " (169004, u'oldtopos', u'cafe', 18),\n",
      " (481533, u'dbaron', u'doctors', 18),\n",
      " (933797, u'oba510', u'bench', 17),\n",
      " (371121, u'AndrewSnow', u'training', 16),\n",
      " (28775, u'StellanL', u'fuel', 14),\n",
      " (153669, u'dchiles', u'bank', 14),\n",
      " (481533, u'dbaron', u'toilets', 14),\n",
      " (14293, u'KindredCoda', u'fast_food', 13),\n",
      " (28775, u'StellanL', u'toilets', 13),\n",
      " (371121, u'AndrewSnow', u'post_office', 13),\n",
      " (11154, u'beej71', u'toilets', 12),\n",
      " (153669, u'dchiles', u'bar', 12),\n",
      " (933797, u'oba510', u'place_of_worship', 12),\n",
      " (933797, u'oba510', u'post_box', 12),\n",
      " (14293, u'KindredCoda', u'bar', 11),\n",
      " (153669, u'dchiles', u'fuel', 11),\n",
      " (169004, u'oldtopos', u'fast_food', 11),\n",
      " (28775, u'StellanL', u'fire_station', 10),\n",
      " (28775, u'StellanL', u'place_of_worship', 10),\n",
      " (153669, u'dchiles', u'parking', 10),\n",
      " (153669, u'dchiles', u'telephone', 10),\n",
      " (169004, u'oldtopos', u'atm', 10),\n",
      " (169004, u'oldtopos', u'dentist', 10),\n",
      " (169004, u'oldtopos', u'doctors', 10),\n",
      " (371121, u'AndrewSnow', u'post_box', 10),\n",
      " (933797, u'oba510', u'fountain', 10),\n",
      " (11154, u'beej71', u'telephone', 9),\n",
      " (14293, u'KindredCoda', u'toilets', 9),\n",
      " (28775, u'StellanL', u'school', 9),\n",
      " (481533, u'dbaron', u'bar', 9),\n",
      " (11154, u'beej71', u'bicycle_parking', 8),\n",
      " (14293, u'KindredCoda', u'drinking_water', 8),\n",
      " (14293, u'KindredCoda', u'fountain', 8),\n",
      " (169004, u'oldtopos', u'bank', 8),\n",
      " (481533, u'dbaron', u'drinking_water', 8),\n",
      " (933797, u'oba510', u'bicycle_parking', 8),\n",
      " (933797, u'oba510', u'drinking_water', 8),\n",
      " (933797, u'oba510', u'ferry_terminal', 8),\n",
      " (14293, u'KindredCoda', u'car_sharing', 7),\n",
      " (28775, u'StellanL', u'fast_food', 7),\n",
      " (153669, u'dchiles', u'atm', 7),\n",
      " (153669, u'dchiles', u'car_sharing', 7),\n",
      " (153669, u'dchiles', u'school', 7),\n",
      " (153669, u'dchiles', u'theatre', 7),\n",
      " (169004, u'oldtopos', u'bicycle_parking', 7),\n",
      " (371121, u'AndrewSnow', u'place_of_worship', 7),\n",
      " (481533, u'dbaron', u'bank', 7),\n",
      " (933797, u'oba510', u'parking_entrance', 7),\n",
      " (14293, u'KindredCoda', u'bank', 6),\n",
      " (14293, u'KindredCoda', u'cafe', 6),\n",
      " (14293, u'KindredCoda', u'clinic', 6),\n",
      " (14293, u'KindredCoda', u'fire_station', 6),\n",
      " (28775, u'StellanL', u'bank', 6),\n",
      " (153669, u'dchiles', u'dentist', 6),\n",
      " (153669, u'dchiles', u'pub', 6),\n",
      " (371121, u'AndrewSnow', u'parking_entrance', 6),\n",
      " (481533, u'dbaron', u'dentist', 6),\n",
      " (481533, u'dbaron', u'telephone', 6),\n",
      " (933797, u'oba510', u'parking', 6),\n",
      " (14293, u'KindredCoda', u'atm', 5),\n",
      " (28775, u'StellanL', u'pharmacy', 5),\n",
      " (153669, u'dchiles', u'fire_station', 5),\n",
      " (153669, u'dchiles', u'ice_cream', 5),\n",
      " (153669, u'dchiles', u'motorcycle_parking', 5),\n",
      " (371121, u'AndrewSnow', u'social_facility', 5),\n",
      " (371121, u'AndrewSnow', u'veterinary', 5),\n",
      " (481533, u'dbaron', u'fast_food', 5),\n",
      " (933797, u'oba510', u'bbq', 5),\n",
      " (933797, u'oba510', u'fast_food', 5),\n",
      " (933797, u'oba510', u'school', 5),\n",
      " (933797, u'oba510', u'toilets', 5),\n",
      " (28775, u'StellanL', u'cafe', 4),\n",
      " (28775, u'StellanL', u'police', 4),\n",
      " (153669, u'dchiles', u'clock', 4),\n",
      " (153669, u'dchiles', u'fountain', 4),\n",
      " (153669, u'dchiles', u'pharmacy', 4),\n",
      " (169004, u'oldtopos', u'place_of_worship', 4),\n",
      " (169004, u'oldtopos', u'telephone', 4),\n",
      " (371121, u'AndrewSnow', u'doctors', 4),\n",
      " (371121, u'AndrewSnow', u'pharmacy', 4),\n",
      " (481533, u'dbaron', u'atm', 4),\n",
      " (933797, u'oba510', u'bank', 4),\n",
      " (933797, u'oba510', u'fuel', 4),\n",
      " (933797, u'oba510', u'library', 4),\n",
      " (11154, u'beej71', u'place_of_worship', 3),\n",
      " (14293, u'KindredCoda', u'ice_cream', 3),\n",
      " (14293, u'KindredCoda', u'pharmacy', 3),\n",
      " (14293, u'KindredCoda', u'post_box', 3),\n",
      " (14293, u'KindredCoda', u'post_office', 3),\n",
      " (14293, u'KindredCoda', u'pub', 3),\n",
      " (28775, u'StellanL', u'post_box', 3),\n",
      " (28775, u'StellanL', u'telephone', 3),\n",
      " (153669, u'dchiles', u'doctors', 3),\n",
      " (153669, u'dchiles', u'library', 3),\n",
      " (153669, u'dchiles', u'police', 3),\n",
      " (153669, u'dchiles', u'taxi', 3),\n",
      " (169004, u'oldtopos', u'hospital', 3),\n",
      " (169004, u'oldtopos', u'pharmacy', 3),\n",
      " (169004, u'oldtopos', u'theatre', 3),\n",
      " (371121, u'AndrewSnow', u'arts_centre', 3),\n",
      " (371121, u'AndrewSnow', u'car_sharing', 3),\n",
      " (371121, u'AndrewSnow', u'kindergarten', 3),\n",
      " (371121, u'AndrewSnow', u'nightclub', 3),\n",
      " (371121, u'AndrewSnow', u'police', 3),\n",
      " (371121, u'AndrewSnow', u'social_centre', 3),\n",
      " (481533, u'dbaron', u'parking_entrance', 3),\n",
      " (933797, u'oba510', u'atm', 3),\n",
      " (933797, u'oba510', u'college', 3),\n",
      " (933797, u'oba510', u'community_centre', 3),\n",
      " (933797, u'oba510', u'pharmacy', 3),\n",
      " (933797, u'oba510', u'post_office', 3),\n",
      " (933797, u'oba510', u'pub', 3),\n",
      " (933797, u'oba510', u'social_facility', 3),\n",
      " (933797, u'oba510', u'veterinary', 3),\n",
      " (11154, u'beej71', u'shelter', 2),\n",
      " (14293, u'KindredCoda', u'cinema', 2),\n",
      " (14293, u'KindredCoda', u'library', 2),\n",
      " (14293, u'KindredCoda', u'parking', 2),\n",
      " (14293, u'KindredCoda', u'theatre', 2),\n",
      " (28775, u'StellanL', u'atm', 2),\n",
      " (28775, u'StellanL', u'bar', 2),\n",
      " (28775, u'StellanL', u'recycling', 2),\n",
      " (153669, u'dchiles', u'car_wash', 2),\n",
      " (153669, u'dchiles', u'college', 2),\n",
      " (153669, u'dchiles', u'community_centre', 2),\n",
      " (153669, u'dchiles', u'coworking_space', 2),\n",
      " (153669, u'dchiles', u'kindergarten', 2),\n",
      " (153669, u'dchiles', u'post_office', 2),\n",
      " (153669, u'dchiles', u'veterinary', 2),\n",
      " (169004, u'oldtopos', u'fountain', 2),\n",
      " (169004, u'oldtopos', u'library', 2),\n",
      " (169004, u'oldtopos', u'nightclub', 2),\n",
      " (169004, u'oldtopos', u'police', 2),\n",
      " (169004, u'oldtopos', u'pub', 2),\n",
      " (169004, u'oldtopos', u'school', 2),\n",
      " (371121, u'AndrewSnow', u'car_wash', 2),\n",
      " (371121, u'AndrewSnow', u'clinic', 2),\n",
      " (371121, u'AndrewSnow', u'school', 2),\n",
      " (371121, u'AndrewSnow', u'studio', 2),\n",
      " (481533, u'dbaron', u'pub', 2),\n",
      " (481533, u'dbaron', u'theatre', 2),\n",
      " (933797, u'oba510', u'arts_centre', 2),\n",
      " (933797, u'oba510', u'bar', 2),\n",
      " (933797, u'oba510', u'clinic', 2),\n",
      " (933797, u'oba510', u'dentist', 2),\n",
      " (933797, u'oba510', u'food_court', 2),\n",
      " (933797, u'oba510', u'ice_cream', 2),\n",
      " (933797, u'oba510', u'telephone', 2),\n",
      " (933797, u'oba510', u'theatre', 2),\n",
      " (933797, u'oba510', u'waste_basket', 2),\n",
      " (11154, u'beej71', u'restaurant', 1),\n",
      " (11154, u'beej71', u'school', 1),\n",
      " (11154, u'beej71', u'toilets_closed', 1),\n",
      " (11154, u'beej71', u'veterinary', 1),\n",
      " (14293, u'KindredCoda', u'car_rental', 1),\n",
      " (14293, u'KindredCoda', u'dentist', 1),\n",
      " (14293, u'KindredCoda', u'grave_yard', 1),\n",
      " (14293, u'KindredCoda', u'music_venue', 1),\n",
      " (14293, u'KindredCoda', u'parking_entrance', 1),\n",
      " (14293, u'KindredCoda', u'police', 1),\n",
      " (14293, u'KindredCoda', u'prison', 1),\n",
      " (14293, u'KindredCoda', u'recycling', 1),\n",
      " (14293, u'KindredCoda', u'stripclub', 1),\n",
      " (14293, u'KindredCoda', u'taxi', 1),\n",
      " (14293, u'KindredCoda', u'telephone', 1),\n",
      " (22925, u'ELadner', u'bicycle_parking', 1),\n",
      " (22925, u'ELadner', u'cafe', 1),\n",
      " (22925, u'ELadner', u'restaurant', 1),\n",
      " (22925, u'ELadner', u'waste_basket', 1),\n",
      " (28775, u'StellanL', u'car_wash', 1),\n",
      " (28775, u'StellanL', u'dentist', 1),\n",
      " (28775, u'StellanL', u'kindergarten', 1),\n",
      " (28775, u'StellanL', u'library', 1),\n",
      " (28775, u'StellanL', u'prison', 1),\n",
      " (28775, u'StellanL', u'pub', 1),\n",
      " (28775, u'StellanL', u'public_building', 1),\n",
      " (28775, u'StellanL', u'taxi', 1),\n",
      " (28775, u'StellanL', u'townhall', 1),\n",
      " (153669, u'dchiles', u'biergarten', 1),\n",
      " (153669, u'dchiles', u'bus_station', 1),\n",
      " (153669, u'dchiles', u'car_rental', 1),\n",
      " (153669, u'dchiles', u'cinema', 1),\n",
      " (153669, u'dchiles', u'clinic', 1),\n",
      " (153669, u'dchiles', u'gym', 1),\n",
      " (153669, u'dchiles', u'hitching_post', 1),\n",
      " (153669, u'dchiles', u'marketplace', 1),\n",
      " (153669, u'dchiles', u'recycling', 1),\n",
      " (153669, u'dchiles', u'shelter', 1),\n",
      " (153669, u'dchiles', u'social_facility', 1),\n",
      " (153669, u'dchiles', u'townhall', 1),\n",
      " (169004, u'oldtopos', u'addr:housenumber', 1),\n",
      " (169004, u'oldtopos', u'arts_centre', 1),\n",
      " (169004, u'oldtopos', u'car_wash', 1),\n",
      " (169004, u'oldtopos', u'community_centre', 1),\n",
      " (169004, u'oldtopos', u'fuel', 1),\n",
      " (169004, u'oldtopos', u'gym', 1),\n",
      " (169004, u'oldtopos', u'health', 1),\n",
      " (169004, u'oldtopos', u'post_office', 1),\n",
      " (169004, u'oldtopos', u'recycling', 1),\n",
      " (169004, u'oldtopos', u'social_facility', 1),\n",
      " (169004, u'oldtopos', u'storage', 1),\n",
      " (169004, u'oldtopos', u'toilets', 1),\n",
      " (169004, u'oldtopos', u'university', 1),\n",
      " (169004, u'oldtopos', u'veterinary', 1),\n",
      " (371121, u'AndrewSnow', u'bench', 1),\n",
      " (371121, u'AndrewSnow', u'car_rental', 1),\n",
      " (371121, u'AndrewSnow', u'childcare', 1),\n",
      " (371121, u'AndrewSnow', u'cinema', 1),\n",
      " (371121, u'AndrewSnow', u'college', 1),\n",
      " (371121, u'AndrewSnow', u'community_centre', 1),\n",
      " (371121, u'AndrewSnow', u'coworking_space', 1),\n",
      " (371121, u'AndrewSnow', u'credit_union', 1),\n",
      " (371121, u'AndrewSnow', u'dancing_school', 1),\n",
      " (371121, u'AndrewSnow', u'doctors_offices', 1),\n",
      " (371121, u'AndrewSnow', u'dojo', 1),\n",
      " (371121, u'AndrewSnow', u'fire_station', 1),\n",
      " (371121, u'AndrewSnow', u'fuel', 1),\n",
      " (371121, u'AndrewSnow', u'karaoke', 1),\n",
      " (371121, u'AndrewSnow', u'lan_gaming_centre', 1),\n",
      " (371121, u'AndrewSnow', u'library', 1),\n",
      " (371121, u'AndrewSnow', u'marketplace', 1),\n",
      " (371121, u'AndrewSnow', u'music_school', 1),\n",
      " (371121, u'AndrewSnow', u'parking', 1),\n",
      " (371121, u'AndrewSnow', u'shelter', 1),\n",
      " (371121, u'AndrewSnow', u'theatre', 1),\n",
      " (371121, u'AndrewSnow', u'toilets', 1),\n",
      " (371121, u'AndrewSnow', u'vintage and modern resale', 1),\n",
      " (481533, u'dbaron', u'arts_centre', 1),\n",
      " (481533, u'dbaron', u'bicycle_rental', 1),\n",
      " (481533, u'dbaron', u'community_centre', 1),\n",
      " (481533, u'dbaron', u'fire_station', 1),\n",
      " (481533, u'dbaron', u'fuel', 1),\n",
      " (481533, u'dbaron', u'nursing_home', 1),\n",
      " (481533, u'dbaron', u'parking', 1),\n",
      " (481533, u'dbaron', u'pharmacy', 1),\n",
      " (481533, u'dbaron', u'place_of_worship', 1),\n",
      " (481533, u'dbaron', u'school', 1),\n",
      " (481533, u'dbaron', u'social_facility', 1),\n",
      " (481533, u'dbaron', u'studio', 1),\n",
      " (933797, u'oba510', u'cinema', 1),\n",
      " (933797, u'oba510', u'clock', 1),\n",
      " (933797, u'oba510', u'doctors', 1),\n",
      " (933797, u'oba510', u'dojo', 1),\n",
      " (933797, u'oba510', u'event', 1),\n",
      " (933797, u'oba510', u'nursing_home', 1),\n",
      " (933797, u'oba510', u'preschool', 1),\n",
      " (933797, u'oba510', u'public_bookcase', 1),\n",
      " (933797, u'oba510', u'public_building', 1),\n",
      " (933797, u'oba510', u'sign', 1),\n",
      " (933797, u'oba510', u'taxi', 1),\n",
      " (933797, u'oba510', u'townhall', 1),\n",
      " (933797, u'oba510', u'university', 1),\n",
      " (933797, u'oba510', u'vending_machine', 1)]\n"
     ]
    }
   ],
   "source": [
    "cur.execute('''\n",
    "SELECT topUsers.uid, topUsers.user, tags.value as value, count(*) as tag_value_count \n",
    "FROM ( \n",
    "    SELECT uid,  user, count(*) as count_num_nodes\n",
    "    FROM (SELECT nodes.id as id, nodes.uid as uid, nodes.user as user \n",
    "        FROM nodes, nodes_tags \n",
    "        WHERE nodes.id = nodes_tags.id \n",
    "        GROUP BY nodes.id, nodes.uid, nodes.user\n",
    "       ) as node_user_pair\n",
    "    GROUP BY uid\n",
    "    ORDER BY count_num_nodes DESC\n",
    "    LIMIT 10\n",
    "    ) topUsers, nodes, nodes_tags as tags\n",
    "WHERE topUsers.uid = nodes.uid AND nodes.id = tags.id and tags.key = 'amenity'\n",
    "GROUP BY topUsers.uid, topUsers.user, value\n",
    "ORDER BY tag_value_count desc\n",
    "''')\n",
    "rows_user = cur.fetchall()\n",
    "pprint.pprint(rows_user)"
   ]
  },
  {
   "cell_type": "code",
   "execution_count": 68,
   "metadata": {
    "collapsed": false
   },
   "outputs": [
    {
     "data": {
      "image/png": "[encoded data removed]",
      "text/plain": [
       "<matplotlib.figure.Figure at 0x11822b00>"
      ]
     },
     "metadata": {},
     "output_type": "display_data"
    }
   ],
   "source": [
    "import pandas as pd\n",
    "import seaborn as sns\n",
    "# store query results in a dataframe\n",
    "user_df = pd.DataFrame(rows_user, columns = ['uid','name', 'amenity','number_reported'])\n",
    "\n",
    "topuser_df = user_df[user_df['name'] == 'oba510']\n",
    "g = sns.barplot(x='amenity', y='number_reported', data = topuser_df[:10])\n",
    "sns.plt.show()"
   ]
  },
  {
   "cell_type": "code",
   "execution_count": null,
   "metadata": {
    "collapsed": true
   },
   "outputs": [],
   "source": [
    "user2_df = user_df[user_df['name'] == 'oldtopos']\n",
    "g = sns.barplot(x='amenity', y='number_reported', data = user2_df[:10])\n",
    "sns.plt.show()\n",
    "user3_df = user_df[user_df['name'] == 'AndrewSnow']\n",
    "g = sns.barplot(x='amenity', y='number_reported', data = user3_df[:10])\n",
    "sns.plt.show()\n",
    "user4_df = user_df[user_df['name'] == 'dchiles']\n",
    "g = sns.barplot(x='amenity', y='number_reported', data = user4_df[:10])\n",
    "sns.plt.show()\n",
    "user5_df = user_df[user_df['name'] == 'KindredCoda']\n",
    "g = sns.barplot(x='amenity', y='number_reported', data = user5_df[:10])\n",
    "sns.plt.show()\n",
    "user6_df = user_df[user_df['name'] == 'StellanL']\n",
    "g = sns.barplot(x='amenity', y='number_reported', data = user6_df[:10])\n",
    "sns.plt.show()"
   ]
  }
 ],
 "metadata": {
  "kernelspec": {
   "display_name": "Python 2",
   "language": "python",
   "name": "python2"
  },
  "language_info": {
   "codemirror_mode": {
    "name": "ipython",
    "version": 2
   },
   "file_extension": ".py",
   "mimetype": "text/x-python",
   "name": "python",
   "nbconvert_exporter": "python",
   "pygments_lexer": "ipython2",
   "version": "2.7.13"
  }
 },
 "nbformat": 4,
 "nbformat_minor": 2
}
